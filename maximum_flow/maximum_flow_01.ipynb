{
 "cells": [
  {
   "cell_type": "code",
   "execution_count": 1,
   "metadata": {},
   "outputs": [],
   "source": [
    "import gurobipy as gp\n",
    "from gurobipy import GRB\n",
    "\n",
    "\n",
    "# Create a new model\n",
    "m = gp.Model('maximum_flow_01')"
   ]
  },
  {
   "cell_type": "code",
   "execution_count": 2,
   "metadata": {},
   "outputs": [],
   "source": [
    "nodes = ['O', 'A','B','C','D','E','T']"
   ]
  },
  {
   "cell_type": "code",
   "execution_count": 3,
   "metadata": {},
   "outputs": [],
   "source": [
    "# Create decision variables\n",
    "x = m.addVars(nodes, nodes, vtype=GRB.INTEGER, name='x')"
   ]
  },
  {
   "cell_type": "code",
   "execution_count": 4,
   "metadata": {},
   "outputs": [],
   "source": [
    "# Set objective function\n",
    "m.setObjective(x['T', 'O'], GRB.MAXIMIZE)"
   ]
  },
  {
   "cell_type": "code",
   "execution_count": 5,
   "metadata": {},
   "outputs": [
    {
     "data": {
      "text/plain": [
       "<gurobi.Constr *Awaiting Model Update*>"
      ]
     },
     "execution_count": 5,
     "metadata": {},
     "output_type": "execute_result"
    }
   ],
   "source": [
    "m.addConstr(x['T', 'O'] == x['O', 'A'] + x['O', 'B'] + x['O', 'C'], 'c1') # o\n",
    "m.addConstr(x['A', 'B'] + x['A', 'D'] == x['O', 'A'], 'c2') # a\n",
    "m.addConstr(x['B', 'C'] + x['B', 'D'] + x['B', 'E'] == x['O', 'B'], 'c3') # b\n",
    "m.addConstr(x['C', 'E'] == x['O', 'C'] + x['B', 'C'], 'c4') # c\n",
    "m.addConstr(x['D', 'T'] == x['A', 'D'] + x['B', 'D'] + x['E', 'D'], 'c5') # d\n",
    "m.addConstr(x['E', 'D'] + x['E', 'T'] == x['B', 'E'] + x['C', 'E'], 'c6') # e\n",
    "m.addConstr(x['T', 'O'] == x['D', 'T'] + x['E', 'T'], 'c7') # t\n",
    "m.addConstr(x['O', 'A'] <= 5, 'c8')\n",
    "m.addConstr(x['O', 'B'] <= 7, 'c9')\n",
    "m.addConstr(x['O', 'C'] <= 4, 'c10')\n",
    "m.addConstr(x['A', 'B'] <= 1, 'c11')\n",
    "m.addConstr(x['A', 'D'] <= 3, 'c12')\n",
    "m.addConstr(x['B', 'C'] <= 2, 'c13')\n",
    "m.addConstr(x['B', 'D'] <= 4, 'c14')\n",
    "m.addConstr(x['B', 'E'] <= 5, 'c15')\n",
    "m.addConstr(x['C', 'E'] <= 4, 'c16')\n",
    "m.addConstr(x['D', 'T'] <= 9, 'c17')\n",
    "m.addConstr(x['E', 'T'] <= 6, 'c18')\n",
    "m.addConstr(x['E', 'D'] <= 1, 'c19')"
   ]
  },
  {
   "cell_type": "code",
   "execution_count": 6,
   "metadata": {},
   "outputs": [
    {
     "name": "stdout",
     "output_type": "stream",
     "text": [
      "Gurobi Optimizer version 10.0.2 build v10.0.2rc0 (mac64[arm])\n",
      "\n",
      "CPU model: Apple M1\n",
      "Thread count: 8 physical cores, 8 logical processors, using up to 8 threads\n",
      "\n",
      "Optimize a model with 19 rows, 49 columns and 37 nonzeros\n",
      "Model fingerprint: 0x64cfc567\n",
      "Variable types: 0 continuous, 49 integer (0 binary)\n",
      "Coefficient statistics:\n",
      "  Matrix range     [1e+00, 1e+00]\n",
      "  Objective range  [1e+00, 1e+00]\n",
      "  Bounds range     [0e+00, 0e+00]\n",
      "  RHS range        [1e+00, 9e+00]\n",
      "Found heuristic solution: objective -0.0000000\n",
      "Presolve removed 15 rows and 42 columns\n",
      "Presolve time: 0.00s\n",
      "Presolved: 4 rows, 7 columns, 14 nonzeros\n",
      "Found heuristic solution: objective 4.0000000\n",
      "Variable types: 0 continuous, 7 integer (0 binary)\n",
      "Found heuristic solution: objective 5.0000000\n",
      "\n",
      "Root relaxation: objective 1.400000e+01, 4 iterations, 0.00 seconds (0.00 work units)\n",
      "\n",
      "    Nodes    |    Current Node    |     Objective Bounds      |     Work\n",
      " Expl Unexpl |  Obj  Depth IntInf | Incumbent    BestBd   Gap | It/Node Time\n",
      "\n",
      "*    0     0               0      14.0000000   14.00000  0.00%     -    0s\n",
      "\n",
      "Explored 1 nodes (4 simplex iterations) in 0.01 seconds (0.00 work units)\n",
      "Thread count was 8 (of 8 available processors)\n",
      "\n",
      "Solution count 4: 14 5 4 -0 \n",
      "\n",
      "Optimal solution found (tolerance 1.00e-04)\n",
      "Best objective 1.400000000000e+01, best bound 1.400000000000e+01, gap 0.0000%\n",
      "Number of variables:  49\n",
      "Number of constraints:  19\n",
      "Objective value:  14.0\n"
     ]
    }
   ],
   "source": [
    "# Update the model\n",
    "m.update()\n",
    "\n",
    "# Optimize the model\n",
    "m.optimize()\n",
    "\n",
    "# Create .lp file\n",
    "#m.write('maximum_flow_01.lp')\n",
    "\n",
    "# Print the solution\n",
    "if m.status == GRB.OPTIMAL:\n",
    "    print('Number of variables: ', m.numVars)\n",
    "    print('Number of constraints: ', m.numConstrs)\n",
    "    print('Objective value: ', m.objVal)\n",
    "    #for v in m.getVars():\n",
    "        #print('%s = %.4f' % (v.varName, v.x))\n",
    "else:\n",
    "    print('No solution found.')"
   ]
  }
 ],
 "metadata": {
  "kernelspec": {
   "display_name": " /Users/pao/Library/Jupyter/kernels/env_name",
   "language": "python",
   "name": "env_name"
  },
  "language_info": {
   "codemirror_mode": {
    "name": "ipython",
    "version": 3
   },
   "file_extension": ".py",
   "mimetype": "text/x-python",
   "name": "python",
   "nbconvert_exporter": "python",
   "pygments_lexer": "ipython3",
   "version": "3.10.13"
  }
 },
 "nbformat": 4,
 "nbformat_minor": 2
}
