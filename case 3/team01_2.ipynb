{
 "cells": [
  {
   "cell_type": "markdown",
   "metadata": {},
   "source": [
    "Created time: 2024_04_15 </br>\n",
    "Created by: Pao Chang, Chiu\n",
    "\n",
    "* Class code：\n",
    "  |         |         |         |         |         |         |         |\n",
    "  |:-------:|:-------:|:-------:|:-------:|:-------:|:-------:|:-------:|\n",
    "  | 國文 - 0  | 英文 - 1  | 數學 - 2  | 理化- 3   | 歷史 - 4  | 地理 - 5  | 公民 - 6  |\n",
    "  | 健康 - 7  | 體育 - 8  | 音樂 - 9  | 藝術 - 10 | 表藝 - 11 | 童軍 - 12 | 家政 - 13 |\n",
    "  | 輔導 - 14 | 閱讀 - 15 | 週會 - 16 | 社團 - 17 | 選數 - 18 | 選自 - 19 | 科技 - 20 |"
   ]
  },
  {
   "cell_type": "markdown",
   "metadata": {},
   "source": [
    "### Import modules"
   ]
  },
  {
   "cell_type": "code",
   "execution_count": 1,
   "metadata": {},
   "outputs": [],
   "source": [
    "import gurobipy as gp\n",
    "from gurobipy import GRB\n",
    "\n",
    "# Create a new model\n",
    "model = gp.Model('team01_2')"
   ]
  },
  {
   "cell_type": "markdown",
   "metadata": {},
   "source": [
    "### Set parameters"
   ]
  },
  {
   "cell_type": "code",
   "execution_count": 2,
   "metadata": {},
   "outputs": [],
   "source": [
    "D = 5 # 排班天數\n",
    "T = 7 # 每天節數\n",
    "C = 1 # 班級數\n",
    "S = 21 # 課程數\n",
    "N = [5, 4, 4, 3, 1,\n",
    "    1, 2, 1, 2, 1,\n",
    "    1, 1, 1, 1, 1,\n",
    "    1, 1, 1, 1, 1,\n",
    "    1] # 課程 S 每週節數\n",
    "M = 1000000 # 極大值\n",
    "P = -100 # 懲罰值（優先排課）"
   ]
  },
  {
   "cell_type": "markdown",
   "metadata": {},
   "source": [
    "### Create decision varibles"
   ]
  },
  {
   "cell_type": "code",
   "execution_count": 3,
   "metadata": {},
   "outputs": [],
   "source": [
    "x = model.addVars(D, T, C, S, vtype=GRB.BINARY, name='x') # 排課程 S \n",
    "y = model.addVars(D, T, C, vtype=GRB.BINARY, name='y') # 排課程 S 實驗"
   ]
  },
  {
   "cell_type": "markdown",
   "metadata": {},
   "source": [
    "### Set objective function"
   ]
  },
  {
   "cell_type": "code",
   "execution_count": 4,
   "metadata": {},
   "outputs": [],
   "source": [
    "obj = gp.quicksum(x[d, t, c, s] for d in range(D) for t in range(T) for c in range(C) for s in range(S))\n",
    "obj2 = gp.quicksum(P * x[d, t, c, s] for d in range(D) for t in range(0, 2) for c in range(C) for s in [2, 18])\n",
    "model.setObjective(obj + obj2, GRB.MINIMIZE)"
   ]
  },
  {
   "cell_type": "markdown",
   "metadata": {},
   "source": [
    "### Add constraints"
   ]
  },
  {
   "cell_type": "code",
   "execution_count": 5,
   "metadata": {},
   "outputs": [],
   "source": [
    "# 每天每班每節只能排一門課\n",
    "for d in range(D):\n",
    "    for t in range(T): \n",
    "        for c in range(C): \n",
    "            model.addConstr(gp.quicksum(x[d, t, c, s] for s in range(S)) == 1, 'c1_%d_%d_%d' % (d, t, c)) \n",
    "\n",
    "#----------- 特定領域不排課的時段 -----------#\n",
    "\n",
    "# 週一：下午不排英文領域 \n",
    "for c in range(C): \n",
    "    model.addConstr(gp.quicksum(x[0, t, c, 1] for t in range(4, T)) == 0, 'c2.1_%d' % c) \n",
    "\n",
    "# 週二：上午不排綜合活動領域 \n",
    "for c in range(C): \n",
    "    for s in [12, 13, 14]:\n",
    "        model.addConstr(gp.quicksum(x[1, t, c, s] for t in range(0, 4)) == 0, 'c2.2_%d_%d' % (c, s)) \n",
    "# 週二：下午不排國文領域 \n",
    "for c in range(C): \n",
    "    for s in [0, 15]:\n",
    "        model.addConstr(gp.quicksum(x[1, t, c, s] for t in range(4, T)) == 0, 'c2.3_%d_%d' % (c, s)) \n",
    "\n",
    "# 週三：上午不排藝術、健康領域  \n",
    "for c in range(C): \n",
    "    for s in [7, 8, 9, 10, 11]:\n",
    "        model.addConstr(gp.quicksum(x[2, t, c, s] for t in range(0, 4)) == 0, 'c2.4_%d_%d' % (c, s)) \n",
    "# 週三：下午不排數學領域  \n",
    "for c in range(C): \n",
    "    for s in [2, 18]:\n",
    "        model.addConstr(gp.quicksum(x[2, t, c, s] for t in range(4, T)) == 0, 'c2.5_%d_%d' % (c, s)) \n",
    "\n",
    "# 週五：上午不排社會領域  \n",
    "for c in range(C): \n",
    "    for s in [4, 5, 6]:\n",
    "        model.addConstr(gp.quicksum(x[4, t, c, s] for t in range(0, 4)) == 0, 'c2.6_%d_%d' % (c, s)) \n",
    "# 週五：下午不排自然、科技 \n",
    "for c in range(C): \n",
    "    for s in [3, 20]:\n",
    "        model.addConstr(gp.quicksum(x[4, t, c, s] for t in range(4, T)) == 0, 'c2.7_%d_%d' % (c, s)) \n",
    "\n",
    "#----------- 特定科目不排課的時段 -----------#\n",
    "\n",
    "# 週一：下午不排健康\n",
    "for c in range(C):\n",
    "    model.addConstr(gp.quicksum(x[0, t, c, 7] for t in range(4, T)) == 0, 'c3.1_%d' % c) \n",
    "\n",
    "# 週五：下午不排課公民、童軍\n",
    "for c in range(C):\n",
    "    for s in [6, 12]:\n",
    "        model.addConstr(gp.quicksum(x[4, t, c, s] for t in range(4, T)) == 0, 'c3.2_%d_%d' % (c, s)) \n",
    "        \n",
    "# 週二：下午不排課音樂、藝術\n",
    "for c in range(C):\n",
    "    for s in [9, 10]:\n",
    "        model.addConstr(x[1, 6, c, s] == 0, 'c3.3_%d_%d' % (c, s)) \n",
    "            \n",
    "#-------------------------------------#\n",
    "\n",
    "# 必須相連的課（輔導完，上公民）\n",
    "for d in range(D):\n",
    "    for t in range(T-1):\n",
    "        for c in range(C):\n",
    "            model.addConstr(x[d, t, c, 14] <= M * x[d, t+1, c, 6], 'c4.1_%d_%d_%d' % (d, t, c)) \n",
    "\n",
    "for d in range(D):\n",
    "    for c in range(C):\n",
    "        model.addConstr(x[d, 6, c, 14] == 0, 'c4.2_%d_%d' % (d, c)) \n",
    "\n",
    "#----------- 課連上，不行跨中午 -----------#\n",
    "for d in range(D):\n",
    "    for t in range(T):\n",
    "        for c in range(C):\n",
    "            model.addConstr(y[d, t, c] <= M * x[d, t, c, 3], 'c5.1_%d_%d_%d' % (d, t, c)) \n",
    "\n",
    "for d in range(D):\n",
    "    for t in range(T-1):\n",
    "        if t not in [3]:\n",
    "            for c in range(C):\n",
    "                model.addConstr(y[d, t, c] <= M * y[d, t+1, c], 'c5.2_%d_%d_%d' % (d, t, c)) # 理化三節，其中兩節連上\n",
    "\n",
    "for d in range(D):\n",
    "    for c in range(C):\n",
    "        model.addConstr(y[d, 3, c] == 0, 'c5.3_%d_%d_%d' % (d, t, c)) \n",
    "\n",
    "for c in range(C):\n",
    "    model.addConstr(gp.quicksum(y[d, t, c] for d in range(D) for t in range(T)) == 2, 'c5.4') \n",
    "    \n",
    "#-------------------------------------#\n",
    "\n",
    "# 一天只能一節課（國文、英文、數學、公民、體育、選數）\n",
    "for d in range(D):\n",
    "    for c in range(C):\n",
    "        for s in [0, 1, 2, 6, 8, 18]: \n",
    "            model.addConstr(gp.quicksum(x[d, t, c, s] for t in range(T)) <= 1, 'c6_%d_%d_%d' % (d, c, s)) \n",
    "\n",
    "# 固定課程時段（週四：六節為週會，七節為社團）\n",
    "for c in range(C):\n",
    "    model.addConstr(x[3, 5, c, 16] == 1, 'c7.1_%d' % c)\n",
    "    model.addConstr(x[3, 6, c, 17] == 1, 'c7.2_%d' % c)\n",
    "\n",
    "#------------ 主科排課限制 -------------#\n",
    "# 五門：上午至少三節，下午至少二節（國文） \n",
    "for c in range(C):\n",
    "    model.addConstr(gp.quicksum(x[d, t, c, 0] for d in range(D) for t in range(0, 4)) >= 3, 'c8.1.1_%d' % c) \n",
    "\n",
    "for c in range(C):\n",
    "    model.addConstr(gp.quicksum(x[d, t, c, 0] for d in range(D) for t in range(4, T)) >= 2, 'c8.1.2_%d' % c) \n",
    "\n",
    "# 四門：上午至少二節，下午至少一節（英文、數學） \n",
    "for c in range(C):\n",
    "    for s in [1, 2]:\n",
    "        model.addConstr(gp.quicksum(x[d, t, c, s] for d in range(D) for t in range(0, 4)) >= 2, 'c8.2.1_%d_%d' % (c, s)) \n",
    "\n",
    "for c in range(C):\n",
    "    for s in [1, 2]:\n",
    "        model.addConstr(gp.quicksum(x[d, t, c, s] for d in range(D) for t in range(4, T)) >= 1, 'c8.2.2_%d_%d' % (c, s)) \n",
    "            \n",
    "#-------------------------------------#\n",
    "\n",
    "# 每種課一週的排課數\n",
    "for c in range(C):\n",
    "    for s in range(S):\n",
    "        model.addConstr(gp.quicksum(x[d, t, c, s] for d in range(D) for t in range(T)) <= N[s], 'c9_%d' % s) "
   ]
  },
  {
   "cell_type": "markdown",
   "metadata": {},
   "source": [
    "### Update and Optimize the model"
   ]
  },
  {
   "cell_type": "code",
   "execution_count": 6,
   "metadata": {},
   "outputs": [
    {
     "name": "stdout",
     "output_type": "stream",
     "text": [
      "Gurobi Optimizer version 10.0.2 build v10.0.2rc0 (mac64[rosetta2])\n",
      "\n",
      "CPU model: Apple M1\n",
      "Thread count: 8 physical cores, 8 logical processors, using up to 8 threads\n",
      "\n",
      "Optimize a model with 218 rows, 770 columns and 2088 nonzeros\n",
      "Model fingerprint: 0xe4303245\n",
      "Variable types: 0 continuous, 770 integer (770 binary)\n",
      "Coefficient statistics:\n",
      "  Matrix range     [1e+00, 1e+06]\n",
      "  Objective range  [1e+00, 1e+02]\n",
      "  Bounds range     [1e+00, 1e+00]\n",
      "  RHS range        [1e+00, 5e+00]\n",
      "Presolve removed 109 rows and 224 columns\n",
      "Presolve time: 0.01s\n",
      "Presolved: 109 rows, 546 columns, 1345 nonzeros\n",
      "Variable types: 0 continuous, 546 integer (546 binary)\n",
      "\n",
      "Root relaxation: objective -3.650000e+02, 137 iterations, 0.00 seconds (0.00 work units)\n",
      "\n",
      "    Nodes    |    Current Node    |     Objective Bounds      |     Work\n",
      " Expl Unexpl |  Obj  Depth IntInf | Incumbent    BestBd   Gap | It/Node Time\n",
      "\n",
      "*    0     0               0    -365.0000000 -365.00000  0.00%     -    0s\n",
      "\n",
      "Explored 1 nodes (137 simplex iterations) in 0.03 seconds (0.01 work units)\n",
      "Thread count was 8 (of 8 available processors)\n",
      "\n",
      "Solution count 1: -365 \n",
      "No other solutions better than -365\n",
      "\n",
      "Optimal solution found (tolerance 1.00e-04)\n",
      "Best objective -3.650000000000e+02, best bound -3.650000000000e+02, gap 0.0000%\n",
      "Number of variables:  770\n",
      "Number of constraints:  218\n",
      "Objective value:  -365.0\n"
     ]
    }
   ],
   "source": [
    "# Update the model\n",
    "model.update()\n",
    "\n",
    "# Optimize the model\n",
    "model.optimize()\n",
    "\n",
    "# Create .lp file\n",
    "#model.write('team01_2.lp')\n",
    "\n",
    "# Print the solution\n",
    "if model.status == GRB.OPTIMAL:\n",
    "    print('Number of variables: ', model.numVars)\n",
    "    print('Number of constraints: ', model.numConstrs)\n",
    "    print('Objective value: ', model.objVal)\n",
    "    #for v in model.getVars():\n",
    "        #print('%s = %d' % (v.varName, v.x))\n",
    "else:\n",
    "    print('No solution found.')"
   ]
  },
  {
   "cell_type": "markdown",
   "metadata": {},
   "source": [
    "### Visualize the solution"
   ]
  },
  {
   "cell_type": "code",
   "execution_count": 7,
   "metadata": {},
   "outputs": [
    {
     "name": "stdout",
     "output_type": "stream",
     "text": [
      "班級 1 的班表: \n",
      "\n",
      "Mon.     數學       地理       英文       理化       國文       理實       理實       \n",
      "\n",
      "Tue.     國文       藝術       閱讀       健康       公民       數學       英文       \n",
      "\n",
      "Wed.     數學       選數       選自       輔導       公民       國文       英文       \n",
      "\n",
      "Thu.     英文       科技       國文       體育       音樂       週會       社團       \n",
      "\n",
      "Fri.     數學       家政       童軍       國文       表藝       歷史       體育       \n",
      "\n"
     ]
    }
   ],
   "source": [
    "on_duty = model.getAttr(\"x\", x)\n",
    "on_duty_y = model.getAttr(\"x\", y)\n",
    "days_of_week = ['Mon.', 'Tue.', 'Wed.', 'Thu.', 'Fri.']\n",
    "class_name = ['國文', '英文', '數學', '理化', '歷史',\n",
    "               '地理', '公民', '健康', '體育', '音樂',\n",
    "               '藝術', '表藝', '童軍', '家政', '輔導',\n",
    "               '閱讀', '週會', '社團', '選數', '選自',\n",
    "               '科技']\n",
    "\n",
    "\n",
    "for c in range(C):\n",
    "    print('班級 %d 的班表: \\n' % (c+1))\n",
    "    for d, day in enumerate(days_of_week):\n",
    "        print(day.ljust(8), end=' ')\n",
    "        for t in range(T):\n",
    "            for s, shift_name in enumerate(class_name):\n",
    "                if on_duty[d, t, c, s] == 1:\n",
    "                    if on_duty_y[d, t, c] == 1 and shift_name == '理化':\n",
    "                        print(\"理實\".ljust(8), end=' ')\n",
    "                    else:\n",
    "                        print(shift_name.ljust(8), end=' ')\n",
    "        print('\\n')"
   ]
  }
 ],
 "metadata": {
  "kernelspec": {
   "display_name": "Python 3 (ipykernel)",
   "language": "python",
   "name": "python3"
  },
  "language_info": {
   "codemirror_mode": {
    "name": "ipython",
    "version": 3
   },
   "file_extension": ".py",
   "mimetype": "text/x-python",
   "name": "python",
   "nbconvert_exporter": "python",
   "pygments_lexer": "ipython3",
   "version": "3.10.13"
  }
 },
 "nbformat": 4,
 "nbformat_minor": 2
}
